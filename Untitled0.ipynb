{
  "cells": [
    {
      "cell_type": "code",
      "source": [
        "l = [2,3,6]\n",
        "a=1\n",
        "for i in l:\n",
        "  a = a*i\n",
        "print(a)"
      ],
      "metadata": {
        "colab": {
          "base_uri": "https://localhost:8080/"
        },
        "id": "o8LmFiLadscV",
        "outputId": "431a19a0-74bd-4a94-b306-16980bfee61e"
      },
      "execution_count": 10,
      "outputs": [
        {
          "output_type": "stream",
          "name": "stdout",
          "text": [
            "36\n"
          ]
        }
      ]
    },
    {
      "cell_type": "code",
      "source": [
        "x = [(2, 5), (1, 2), (4, 4), (2, 3), (2, 1)]\n",
        "s=  sorted(x, key= lambda i:i[1])\n",
        "print(s)\n"
      ],
      "metadata": {
        "colab": {
          "base_uri": "https://localhost:8080/"
        },
        "id": "iFmTXkuUepPV",
        "outputId": "247b991a-50b6-4833-a348-b147326c2481"
      },
      "execution_count": null,
      "outputs": [
        {
          "output_type": "stream",
          "name": "stdout",
          "text": [
            "[(2, 1), (1, 2), (2, 3), (4, 4), (2, 5)]\n"
          ]
        }
      ]
    },
    {
      "cell_type": "code",
      "source": [
        "d1 = {'a': 100, 'b': 200, 'c':300}\n",
        "\n",
        "d2 = {'a': 300, 'b': 200, 'd':400}\n",
        "\n",
        "d3=dict()\n",
        "for i, j  in d1.items():\n",
        "    for x, y  in d2.items():\n",
        "      \n",
        "        if i == x:\n",
        "            d3[i]=j+y\n",
        "        elif not( i in d2.keys()):\n",
        "          d3[i]= j\n",
        "        elif not( x in d1.keys()):\n",
        "          d3[x]= y\n",
        "\n",
        "from collections import Counter\n",
        "\n",
        "c1 = Counter([1,1,1,1,1,1,1,2,2,2])\n",
        "c2 = Counter(d2)\n",
        "c3 = c1 + c2          \n",
        "\n",
        "\n",
        "print(c1)"
      ],
      "metadata": {
        "colab": {
          "base_uri": "https://localhost:8080/"
        },
        "id": "KNCDcZiphr_c",
        "outputId": "73b05d99-fc6d-406c-adad-1a559254c55d"
      },
      "execution_count": 16,
      "outputs": [
        {
          "output_type": "stream",
          "name": "stdout",
          "text": [
            "Counter({1: 7, 2: 3})\n"
          ]
        }
      ]
    },
    {
      "cell_type": "code",
      "source": [
        "n=int(input(\"enter the value of n\"))\n",
        "squares = {i: i*i for i in range(0,n+1)}\n",
        "print(squares)\n",
        "\n",
        "\n"
      ],
      "metadata": {
        "colab": {
          "base_uri": "https://localhost:8080/"
        },
        "id": "9Xh4-QorqAN0",
        "outputId": "27554663-5dc3-450a-d461-0a89787e819e"
      },
      "execution_count": 40,
      "outputs": [
        {
          "output_type": "stream",
          "name": "stdout",
          "text": [
            "enter the value of n11\n",
            "{0: 0, 1: 1, 2: 4, 3: 9, 4: 16, 5: 25, 6: 36, 7: 49, 8: 64, 9: 81, 10: 100, 11: 121}\n"
          ]
        }
      ]
    },
    {
      "cell_type": "code",
      "source": [
        "x= [('item1',12.20),('item2',15.10),('item3',24.5)]\n",
        "s=sorted(x,key=lambda i:i[1],reverse=True)\n",
        "print(s)"
      ],
      "metadata": {
        "colab": {
          "base_uri": "https://localhost:8080/"
        },
        "id": "kRX-uN3fyUYK",
        "outputId": "a5a2684a-9e64-4b61-86e0-360b0744a3b2"
      },
      "execution_count": 47,
      "outputs": [
        {
          "output_type": "stream",
          "name": "stdout",
          "text": [
            "[('item3', 24.5), ('item2', 15.1), ('item1', 12.2)]\n"
          ]
        }
      ]
    }
  ],
  "metadata": {
    "colab": {
      "collapsed_sections": [],
      "name": "Untitled0.ipynb",
      "provenance": []
    },
    "kernelspec": {
      "display_name": "Python 3",
      "name": "python3"
    },
    "language_info": {
      "name": "python"
    }
  },
  "nbformat": 4,
  "nbformat_minor": 0
}